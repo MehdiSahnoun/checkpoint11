{
 "cells": [
  {
   "cell_type": "code",
   "execution_count": 1,
   "id": "a6f37501-c5d1-4d15-94fb-7aa907b884b2",
   "metadata": {},
   "outputs": [
    {
     "data": {
      "text/plain": [
       "967"
      ]
     },
     "execution_count": 1,
     "metadata": {},
     "output_type": "execute_result"
    }
   ],
   "source": [
    "mylist=[14, \"hello\", 967]\n",
    "mylist[2]"
   ]
  },
  {
   "cell_type": "code",
   "execution_count": 7,
   "id": "25a4c441-a543-4e49-a5bf-72ead2611edd",
   "metadata": {},
   "outputs": [],
   "source": [
    "import numpy \n",
    "import pandas"
   ]
  },
  {
   "cell_type": "code",
   "execution_count": 12,
   "id": "1980fe6b-8cae-417d-9a59-16d1dd46349f",
   "metadata": {},
   "outputs": [
    {
     "name": "stdout",
     "output_type": "stream",
     "text": [
      "python errors\n"
     ]
    }
   ],
   "source": [
    "print(\"python errors\")"
   ]
  },
  {
   "cell_type": "code",
   "execution_count": 17,
   "id": "e71bd41b-9fa6-4751-9c3a-9eae1b026151",
   "metadata": {},
   "outputs": [
    {
     "data": {
      "text/plain": [
       "'hello'"
      ]
     },
     "execution_count": 17,
     "metadata": {},
     "output_type": "execute_result"
    }
   ],
   "source": [
    "mydictionnary={True:\"hello\",False:\"bye\", '3':\"python\"}\n",
    "mydictionnary[True]"
   ]
  },
  {
   "cell_type": "code",
   "execution_count": null,
   "id": "501148a1-0efb-494c-86b4-d22bad71aaa8",
   "metadata": {
    "jupyter": {
     "source_hidden": true
    },
    "tags": []
   },
   "outputs": [],
   "source": [
    "i=14\n",
    "while i<78:\n",
    "    print(i)\n",
    "i+=1"
   ]
  },
  {
   "cell_type": "code",
   "execution_count": 2,
   "id": "b24aefa8-fa95-436c-b72c-63281c78625f",
   "metadata": {
    "jupyter": {
     "source_hidden": true
    },
    "tags": []
   },
   "outputs": [
    {
     "data": {
      "text/plain": [
       "1"
      ]
     },
     "execution_count": 2,
     "metadata": {},
     "output_type": "execute_result"
    }
   ],
   "source": [
    "it=iter([1,2,3])\n",
    "next(it)\n"
   ]
  },
  {
   "cell_type": "code",
   "execution_count": 4,
   "id": "d52f1100-1edf-4dd8-a4f0-278cbb2f0e77",
   "metadata": {
    "jupyter": {
     "source_hidden": true
    },
    "tags": []
   },
   "outputs": [
    {
     "data": {
      "text/plain": [
       "30"
      ]
     },
     "execution_count": 4,
     "metadata": {},
     "output_type": "execute_result"
    }
   ],
   "source": [
    "15+15"
   ]
  },
  {
   "cell_type": "code",
   "execution_count": 6,
   "id": "d13142f7-e88b-4a42-8068-275d66078902",
   "metadata": {
    "jupyter": {
     "source_hidden": true
    },
    "tags": []
   },
   "outputs": [
    {
     "data": {
      "text/plain": [
       "5"
      ]
     },
     "execution_count": 6,
     "metadata": {},
     "output_type": "execute_result"
    }
   ],
   "source": [
    "int(5)"
   ]
  },
  {
   "cell_type": "code",
   "execution_count": 7,
   "id": "cf7b48e9-20ea-480f-a5c5-4d70805217e1",
   "metadata": {
    "jupyter": {
     "source_hidden": true
    },
    "tags": []
   },
   "outputs": [
    {
     "data": {
      "text/plain": [
       "'python'"
      ]
     },
     "execution_count": 7,
     "metadata": {},
     "output_type": "execute_result"
    }
   ],
   "source": [
    "'python'"
   ]
  },
  {
   "cell_type": "code",
   "execution_count": 12,
   "id": "9342b248-81b0-4de4-9c4b-e2750e8ecc44",
   "metadata": {
    "jupyter": {
     "source_hidden": true
    },
    "tags": []
   },
   "outputs": [
    {
     "data": {
      "text/plain": [
       "19.0"
      ]
     },
     "execution_count": 12,
     "metadata": {},
     "output_type": "execute_result"
    }
   ],
   "source": [
    "x=19/1\n",
    "x"
   ]
  },
  {
   "cell_type": "code",
   "execution_count": null,
   "id": "cdd892b8-a4fb-4c96-b53f-bbf58777d858",
   "metadata": {},
   "outputs": [],
   "source": []
  }
 ],
 "metadata": {
  "kernelspec": {
   "display_name": "Python 3",
   "language": "python",
   "name": "python3"
  },
  "language_info": {
   "codemirror_mode": {
    "name": "ipython",
    "version": 3
   },
   "file_extension": ".py",
   "mimetype": "text/x-python",
   "name": "python",
   "nbconvert_exporter": "python",
   "pygments_lexer": "ipython3",
   "version": "3.8.8"
  }
 },
 "nbformat": 4,
 "nbformat_minor": 5
}
